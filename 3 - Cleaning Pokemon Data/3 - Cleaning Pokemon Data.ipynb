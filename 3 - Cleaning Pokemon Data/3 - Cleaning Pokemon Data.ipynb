{
 "cells": [
  {
   "cell_type": "markdown",
   "metadata": {
    "id": "lq-jDrkmr4fM"
   },
   "source": [
    "# Data Cleaning\n",
    "\n",
    "In this Notebook, we will be using a revised version of the [Pokemon Dataset](https://www.kaggle.com/mariotormo/complete-pokemon-dataset-updated-090420), purposefully dirtied for the purpose of performing data cleaning. Additionally, some columns were also omitted for this notebook.\n",
    "\n",
    "Our Notebooks in CSMODEL are designed to be guided learning activities. To use them, simply go through the cells from top to bottom, following the directions along the way. If you find any unclear parts or mistakes in the Notebooks, email your instructor."
   ]
  },
  {
   "cell_type": "markdown",
   "metadata": {
    "id": "NkKOOqWPr4fT"
   },
   "source": [
    "## Instructions\n",
    "* Read each cell and implement the TODOs sequentially. The markdown/text cells also contain instructions which you need to follow to get the whole notebook working.\n",
    "* Do not change the variable names unless the instructor allows you to.\n",
    "* Answer all the markdown/text cells with 'Question #' on them. The answer must strictly consume one line only.\n",
    "* You are expected to search how to some functions work on the Internet or via the docs. \n",
    "* The notebooks will undergo a 'Restart and Run All' command, so make sure that your code is working properly.\n",
    "* You are expected to understand the dataset loading and processing separately from this class.\n",
    "* You may not reproduce this notebook or share them to anyone."
   ]
  },
  {
   "cell_type": "markdown",
   "metadata": {
    "id": "odsSi-Igr4fU"
   },
   "source": [
    "## Import\n",
    "Import **numpy** and **pandas**.\n",
    "\n",
    "[**`pandas`**](https://pandas.pydata.org/pandas-docs/stable/index.html) is a software library for Python which provides data structures and data analysis tools."
   ]
  },
  {
   "cell_type": "code",
   "execution_count": null,
   "metadata": {
    "id": "Zt1aC_kdr4fU"
   },
   "outputs": [],
   "source": [
    "import numpy as np\n",
    "import pandas as pd"
   ]
  },
  {
   "cell_type": "markdown",
   "metadata": {
    "id": "wAP6wrLfr4fV"
   },
   "source": [
    "## The Dataset\n",
    "\n",
    "The Pokemon dataset contains 890 known pokemon until 8th Generation and its varieties.\n",
    "\n",
    "The dataset is provided to you as a `.csv` file. `.csv` means comma-separated values. You can open the file in Notepad to see how it is exactly formatted"
   ]
  },
  {
   "cell_type": "markdown",
   "metadata": {
    "id": "F9ma2-MHr4fW"
   },
   "source": [
    "If you view the `.csv` file in Excel, you can see that our dataset contains many **observations** (rows) across 48 **variables** (columns). An observation corresponds to a Pokemon (or a variant of it), and the variables correspond to the attributes of that Pokemon. We will describe what some of the columns mean as we go through this notebook."
   ]
  },
  {
   "cell_type": "markdown",
   "metadata": {
    "id": "JeDJjU7Vr4fX"
   },
   "source": [
    "## Reading the Dataset\n",
    "Our first step is to load the dataset using pandas. This will load the dataset into a pandas `DataFrame`. To load the dataset, we use the [`read_csv`](https://pandas.pydata.org/pandas-docs/stable/reference/api/pandas.read_csv.html) function. Note that you may need to change the path depending on the location of the file in your machine."
   ]
  },
  {
   "cell_type": "code",
   "execution_count": null,
   "metadata": {
    "id": "8xI50T9Ir4fX"
   },
   "outputs": [],
   "source": [
    "pokemon_df = pd.read_csv(\"pokedex.csv\")"
   ]
  },
  {
   "cell_type": "markdown",
   "metadata": {
    "id": "Gl029hasr4fY"
   },
   "source": [
    "Whenever we load a new dataset, it is generally a good idea to call the [`info`](https://pandas.pydata.org/pandas-docs/stable/reference/api/pandas.DataFrame.info.html) function, which displays general information about the dataset."
   ]
  },
  {
   "cell_type": "code",
   "execution_count": null,
   "metadata": {
    "id": "S__4d8IZr4fZ"
   },
   "outputs": [],
   "source": [
    "pokemon_df.info()"
   ]
  },
  {
   "cell_type": "markdown",
   "metadata": {
    "id": "of0UoDRdr4fZ"
   },
   "source": [
    "## Cleaning the Dataset\n",
    "Before we can start exploring our dataset, we have to clean it first in case there are inconsistencies that may incur problems in analysis.\n",
    "\n",
    "Throughout the notebook, we will look at certain scenarios and see whether we should clean the relevant variables or not. \n",
    "\n",
    "*We won't actually perform the analysis for this notebook. Exploratory Data Analysis will be discussed in the next notebook.*"
   ]
  },
  {
   "cell_type": "markdown",
   "metadata": {
    "id": "mqFBPAFGr4fa"
   },
   "source": [
    "## Scenario:\n",
    "\n",
    "Let's say that we want to see **the distribution of the pokemons' statuses for a given generation**. For this, we would use the variables:\n",
    "- **`generation`**: numbered generation which the Pokemon was first introduced\n",
    "- **`status`**: denotes if the Pokemon is normal, sub legendary, legendary or mythical. (We can think of this as the Pokemon's group)\n",
    "\n",
    "Thus, we should inspect these columns and see if these need cleaning."
   ]
  },
  {
   "cell_type": "markdown",
   "metadata": {
    "id": "kdcZju7Gr4fa"
   },
   "source": [
    "### `generation` variable\n",
    "The pokemon series has 8 generations as of date, with the newest generation being Pokemon Sword and Shield. As such, we can expect that the possible values for the `generation` column are the whole numbers 1 to 8. \n",
    "Use the [`unique`](https://pandas.pydata.org/pandas-docs/stable/reference/api/pandas.Series.unique.html) function to list all unique values for this variable."
   ]
  },
  {
   "cell_type": "code",
   "execution_count": null,
   "metadata": {
    "id": "hFbbkoLyr4fb"
   },
   "outputs": [],
   "source": [
    "pokemon_df['generation'].unique()"
   ]
  },
  {
   "cell_type": "markdown",
   "metadata": {
    "id": "IPqsh7q2r4fb"
   },
   "source": [
    "We can see here that the unique values for the `generation` variable are the numbers 1 to 8--all of which are valid."
   ]
  },
  {
   "cell_type": "markdown",
   "metadata": {
    "id": "hfFPH4FKr4fi"
   },
   "source": [
    "### `status` variable\n",
    "As described earlier, the valid values for the `status` variable are either 'Normal', 'Sub Legendary', 'Legendary', or 'Mythical'. List all the unique values for the `status` variable."
   ]
  },
  {
   "cell_type": "code",
   "execution_count": null,
   "metadata": {
    "id": "EWQJmXoCr4fi"
   },
   "outputs": [],
   "source": [
    "# Write your code here\n"
   ]
  },
  {
   "cell_type": "markdown",
   "metadata": {
    "id": "ugqE8bLtr4fi"
   },
   "source": [
    "**Question #1:** Do we need to perform data cleaning for the `status` variable? Explain.\n",
    "- *Write your answer here.*"
   ]
  },
  {
   "cell_type": "markdown",
   "metadata": {
    "id": "RXDHf13wr4fj"
   },
   "source": [
    "## Scenario:\n",
    "Let's say that we want to explore the different [types](https://bulbapedia.bulbagarden.net/wiki/Type) of Pokemon. You can think of 'types' as 'elements' in the Pokemon Universe. Generally, a pokemon can have up to two types: a primary type and an optional secondary type.\n",
    "\n",
    "For this, we would probably use the following columns:\n",
    "- **`type_1`**: primary type of the Pokemon\n",
    "- **`type_2`**: secondary type of the Pokemon (if any)\n",
    "\n",
    "Thus, we should inspect these and see if these columns need cleaning."
   ]
  },
  {
   "cell_type": "markdown",
   "metadata": {
    "id": "zWHypDdhr4fj"
   },
   "source": [
    "### `type_1` variable\n",
    "The `type_1` variable is the primary type of the Pokemon. Let's list all the unique values for the `type_1` variable."
   ]
  },
  {
   "cell_type": "code",
   "execution_count": null,
   "metadata": {
    "id": "xAEaZ1fEr4fj"
   },
   "outputs": [],
   "source": [
    "pokemon_df['type_1'].unique()"
   ]
  },
  {
   "cell_type": "markdown",
   "metadata": {
    "id": "fE-CLZKPr4fk"
   },
   "source": [
    "Currently, there are 18 unique types in the main Pokemon franchise. You may refer to this [page](https://bulbapedia.bulbagarden.net/wiki/Type) to see the valid list of types in the main pokemon franchise Looking at the results above, we can see that there are multiple representations of the same type (`Water`, `water` for the Water type; `normal`, `Normal` for the Normal type) and there are also some values that have spelling/encoding errors (`watr` - a typo of the Water type; `Grund` - a typo of the Ground type). \n",
    "\n",
    "Generally speaking, if you are unsure on what the correct representation is, or there isn't really a *correct* representation per se, we can use the most prevalent representation in the variable. To find out the number of observations per unique value, we use the [`value_counts`](https://pandas.pydata.org/pandas-docs/stable/reference/api/pandas.Series.value_counts.html) function. This function returns the count of each unique value in the Series."
   ]
  },
  {
   "cell_type": "code",
   "execution_count": null,
   "metadata": {
    "id": "tm7g6UGtr4fk"
   },
   "outputs": [],
   "source": [
    "pokemon_df['type_1'].value_counts()"
   ]
  },
  {
   "cell_type": "markdown",
   "metadata": {
    "id": "2Rv_s_ier4fl"
   },
   "source": [
    "From the results above, we can see that `water` and `normal` are less prevalent than `Water` and `Normal`. Thus, it might be more preferrable to use `Water` and `Normal` to represent the Water and Normal types, respectively. "
   ]
  },
  {
   "cell_type": "markdown",
   "metadata": {
    "id": "06LyQ6irr4fl"
   },
   "source": [
    "The succeeding cells shows two ways we can use to address multiple representations and spelling errors. But before that, let's make two copies of `pokemon_df` by using the [`copy`](https://pandas.pydata.org/pandas-docs/stable/reference/api/pandas.DataFrame.copy.html) function, just to demonstrate that the two approaches will produce the same result. "
   ]
  },
  {
   "cell_type": "code",
   "execution_count": null,
   "metadata": {
    "id": "n8QUxXsSr4fl"
   },
   "outputs": [],
   "source": [
    "pokemon_df1 = pokemon_df.copy()\n",
    "pokemon_df2 = pokemon_df.copy()"
   ]
  },
  {
   "cell_type": "markdown",
   "metadata": {
    "id": "nwveWDT6r4fm"
   },
   "source": [
    "One way to address it is to use the [`map`](https://pandas.pydata.org/pandas-docs/stable/reference/api/pandas.Series.map.html) function to change the values of the other representations and spelling errors. **Note that values which are not mapped in the dictionary parameter will be mapped to [`NaN`](https://numpy.org/doc/stable/reference/constants.html#numpy.NAN) (Not a Number).** As such, we should still include the correct values in the dictionary."
   ]
  },
  {
   "cell_type": "code",
   "execution_count": null,
   "metadata": {
    "id": "Tn7B8NUNr4fn"
   },
   "outputs": [],
   "source": [
    "pokemon_df1['type_1'] = pokemon_df1['type_1'].map({'water': 'Water', 'normal': 'Normal',\n",
    "                                                 'watr': 'Water', 'Grund': 'Ground',\n",
    "                                                'Water': 'Water', 'Grass': 'Grass', 'Normal': 'Normal', 'Bug': 'Bug', 'Psychic': 'Psychic', 'Fire': 'Fire',\n",
    "                                                'Electric': 'Electric', 'Rock': 'Rock', 'Dark': 'Dark', 'Ground': 'Ground', 'Ghost': 'Ghost', 'Dragon': 'Dragon',\n",
    "                                                'Poison': 'Poison', 'Fighting': 'Fighting', 'Steel': 'Steel', 'Ice': 'Ice', 'Fairy': 'Fairy', 'Flying': 'Flying'})"
   ]
  },
  {
   "cell_type": "markdown",
   "metadata": {
    "id": "h_XUnn3Vr4fo"
   },
   "source": [
    "To check if the values were mapped correctly, we can confirm the counts through the `value_counts` function."
   ]
  },
  {
   "cell_type": "code",
   "execution_count": null,
   "metadata": {
    "id": "cbTKPmi3r4fo"
   },
   "outputs": [],
   "source": [
    "pokemon_df1['type_1'].value_counts()"
   ]
  },
  {
   "cell_type": "markdown",
   "metadata": {
    "id": "HANsXD3br4fo"
   },
   "source": [
    "Another way is to use the [`replace`](https://pandas.pydata.org/docs/reference/api/pandas.DataFrame.replace.html) function. In this approach, we don't have to indicate the values that we will not be changing.  "
   ]
  },
  {
   "cell_type": "code",
   "execution_count": null,
   "metadata": {
    "id": "uueNQ5AQr4fo"
   },
   "outputs": [],
   "source": [
    "pokemon_df2['type_1'] = pokemon_df2['type_1'].replace({'water': 'Water', 'normal': 'Normal',\n",
    "                                                    'watr':'Water', 'Grund': 'Ground'})"
   ]
  },
  {
   "cell_type": "markdown",
   "metadata": {
    "id": "Js-ZgR62r4fp"
   },
   "source": [
    "Once again, to check if the values were mapped correctly, we can confirm the counts through the `value_counts` function."
   ]
  },
  {
   "cell_type": "code",
   "execution_count": null,
   "metadata": {
    "id": "6hbP19Hir4fp"
   },
   "outputs": [],
   "source": [
    "pokemon_df2['type_1'].value_counts()"
   ]
  },
  {
   "cell_type": "markdown",
   "metadata": {
    "id": "AT99W_sZr4fq"
   },
   "source": [
    "**Question #2:** After cleaning, how many observations have the value `Water` for the `type_1` variable?\n",
    "- *Write your answer here.*"
   ]
  },
  {
   "cell_type": "markdown",
   "metadata": {
    "id": "85HaH77Pr4fq"
   },
   "source": [
    "**Question #3:** After cleaning, how many observations have the value `Normal` for the `type_1` variable?\n",
    "- *Write your answer here.*"
   ]
  },
  {
   "cell_type": "markdown",
   "metadata": {
    "id": "lv9FLvRkr4fq"
   },
   "source": [
    "**Question #4:** After cleaning, how many observations have the value `Grund` for the `type_1` variable?\n",
    "- *Write your answer here.*"
   ]
  },
  {
   "cell_type": "markdown",
   "metadata": {
    "id": "Sl4aI6QWr4fr"
   },
   "source": [
    "The code cell below is just to update `pokemon_df` with the cleaned `type_1` variable."
   ]
  },
  {
   "cell_type": "code",
   "execution_count": null,
   "metadata": {
    "id": "zp87gz5Ir4fr"
   },
   "outputs": [],
   "source": [
    "pokemon_df['type_1'] = pokemon_df1['type_1']"
   ]
  },
  {
   "cell_type": "markdown",
   "metadata": {
    "id": "leSTh2ter4fr"
   },
   "source": [
    "### `type_2` variable"
   ]
  },
  {
   "cell_type": "markdown",
   "metadata": {
    "id": "uWtoAQKTr4fr"
   },
   "source": [
    "The `type_2` variable is the secondary type of the Pokemon. Let's list all the unique values for the `type_2` variable. Note that the secondary type is optional, hence it is okay to have empty values (aka `nan`)."
   ]
  },
  {
   "cell_type": "code",
   "execution_count": null,
   "metadata": {
    "id": "qTrpbaIzr4fs"
   },
   "outputs": [],
   "source": [
    "pokemon_df['type_2'].unique()"
   ]
  },
  {
   "cell_type": "markdown",
   "metadata": {
    "id": "jKhVPZD3r4fs"
   },
   "source": [
    "Let's check the number of observations per value in the `type_2` variable before cleaning it."
   ]
  },
  {
   "cell_type": "code",
   "execution_count": null,
   "metadata": {
    "id": "sEeGH5Bir4fs"
   },
   "outputs": [],
   "source": [
    "# Write your code here\n"
   ]
  },
  {
   "cell_type": "markdown",
   "metadata": {
    "id": "pHxUCUSzr4fs"
   },
   "source": [
    "Identify and address multiple representations and spelling errors then write your code in the cell below.\n",
    "\n",
    "*You may use either of the approaches presented earlier.*"
   ]
  },
  {
   "cell_type": "code",
   "execution_count": null,
   "metadata": {
    "id": "0lQFXj7Pr4fs"
   },
   "outputs": [],
   "source": [
    "# Write your code here\n"
   ]
  },
  {
   "cell_type": "markdown",
   "metadata": {
    "id": "zv6d6XO9r4fs"
   },
   "source": [
    "After addressing multiple representation and spelling errors, let's check again the number of unique observations per value in the `type_2` variable. "
   ]
  },
  {
   "cell_type": "code",
   "execution_count": null,
   "metadata": {
    "id": "Agk1tOvLr4ft"
   },
   "outputs": [],
   "source": [
    "# Write your code here\n"
   ]
  },
  {
   "cell_type": "markdown",
   "metadata": {
    "id": "cWCKVYFsr4ft"
   },
   "source": [
    "**Question #5:** Before cleaning, how many observations have the value `Normal` for the `type_2` variable?\n",
    "- *Write your answer here.*"
   ]
  },
  {
   "cell_type": "markdown",
   "metadata": {
    "id": "UJgJ8ZEXr4ft"
   },
   "source": [
    "**Question #6:** After cleaning, how many observations have the value `Normal` for the `type_2` variable?\n",
    "- *Write your answer here.*"
   ]
  },
  {
   "cell_type": "markdown",
   "metadata": {
    "id": "gpe0BF01r4ft"
   },
   "source": [
    "**Question #7:** Before cleaning, how many observations have the value `normal` for the `type_2` variable?\n",
    "- *Write your answer here.*"
   ]
  },
  {
   "cell_type": "markdown",
   "metadata": {
    "id": "WaJ42_ucr4fu"
   },
   "source": [
    "## Checking for `NaN`s\n",
    "We will now handle missing data in our dataset. Let us check each variable if it contains a `NaN` / `null` value. We'll use the [`isnull`](https://pandas.pydata.org/pandas-docs/stable/reference/api/pandas.DataFrame.isnull.html) and [`any`](https://pandas.pydata.org/pandas-docs/stable/reference/api/pandas.DataFrame.any.html) functions for this. This function call will list each variable with a boolean value indicating if the variable contains a `NaN` / `null` value."
   ]
  },
  {
   "cell_type": "code",
   "execution_count": null,
   "metadata": {
    "id": "sRTRQ5e1r4fu"
   },
   "outputs": [],
   "source": [
    "pokemon_df.isnull().any()"
   ]
  },
  {
   "cell_type": "markdown",
   "metadata": {
    "id": "1_jg0MG3r4fu"
   },
   "source": [
    "Let's get the list of columns with `NaN` / `null` values."
   ]
  },
  {
   "cell_type": "code",
   "execution_count": null,
   "metadata": {
    "id": "ZaQ5lGuwr4fu"
   },
   "outputs": [],
   "source": [
    "nan_variables = pokemon_df.columns[pokemon_df.isnull().any()].tolist()\n",
    "print(nan_variables)"
   ]
  },
  {
   "cell_type": "markdown",
   "metadata": {
    "id": "BTshbSu_r4fu"
   },
   "source": [
    "For each variable, show the total number of observation with `NaN` / `null` value. The [`sum`](https://pandas.pydata.org/docs/reference/api/pandas.DataFrame.sum.html) function is used to get the counts of null values per column. This works because the [`isnull`](https://pandas.pydata.org/pandas-docs/stable/reference/api/pandas.DataFrame.isnull.html) function converts the value of the cell to either `True` (if the value is `null` or `nan`) or `False` (if there is a value in the cell). Just like in most programming languages, `True` is equivalent to `1` when used in place of an integer."
   ]
  },
  {
   "cell_type": "code",
   "execution_count": null,
   "metadata": {
    "id": "63J2NhbLr4fv"
   },
   "outputs": [],
   "source": [
    "pokemon_df[nan_variables].isnull().sum()"
   ]
  },
  {
   "cell_type": "markdown",
   "metadata": {
    "id": "qo5XXFIhr4fv"
   },
   "source": [
    "**Question #8:** Before cleaning, how many observations have the `NaN` value for the `weight_kg` variable?\n",
    "- *Write your answer here.*"
   ]
  },
  {
   "cell_type": "markdown",
   "metadata": {
    "id": "PADaPTKor4fv"
   },
   "source": [
    "**Question #9:** Before cleaning, how many observations have the `NaN` value for the `ability_1` variable?\n",
    "- *Write your answer here.*"
   ]
  },
  {
   "cell_type": "markdown",
   "metadata": {
    "id": "_H4-q1ulr4fv"
   },
   "source": [
    "**Question #10:** Before cleaning, how many observations have the `NaN` value for the `hp` variable?\n",
    "- *Write your answer here.*"
   ]
  },
  {
   "cell_type": "code",
   "execution_count": null,
   "metadata": {
    "id": "o7PKimmRr4fw"
   },
   "outputs": [],
   "source": [
    "pokemon_df.shape"
   ]
  },
  {
   "cell_type": "markdown",
   "metadata": {
    "id": "DanFboW3r4fx"
   },
   "source": [
    "The [`shape`](https://pandas.pydata.org/docs/reference/api/pandas.DataFrame.shape.html) attribute returns the dimensions of the dataframe. Before cleaning, we can see here that there are a total of 1028 observations in our dataset."
   ]
  },
  {
   "cell_type": "markdown",
   "metadata": {
    "id": "C_pU-0YXr4fy"
   },
   "source": [
    "The`type_2` variable have several observations that are missing a value but it is alright in this context, as having a secondary type is optional for a Pokemon."
   ]
  },
  {
   "cell_type": "code",
   "execution_count": null,
   "metadata": {
    "id": "47TNCPG1r4fy"
   },
   "outputs": [],
   "source": [
    "exclude_variables = ['type_2','hp','defense']\n",
    "dropped_variables = list(set(nan_variables) - set(exclude_variables))\n",
    "print(dropped_variables)"
   ]
  },
  {
   "cell_type": "markdown",
   "metadata": {
    "id": "-IrnRnqqr4fy"
   },
   "source": [
    "Since we see that there is a very small number of observation with `NaN` / `null` value for the `weight_kg` and `ability_1` variable, we can decide to drop those observations from the dataset. \n",
    "\n",
    "However, remember that in this example, we're dropping these as an example for dropping `null` values. Depending on your research question, you may have to assess whether or not `weight_kg` and `ability_1` are important.\n",
    "\n",
    "**Hint!** Use the [`dropna`](https://pandas.pydata.org/pandas-docs/stable/reference/api/pandas.DataFrame.dropna.html) function (and its subset parameter)."
   ]
  },
  {
   "cell_type": "code",
   "execution_count": null,
   "metadata": {
    "id": "-akrm61Lr4fy"
   },
   "outputs": [],
   "source": [
    "# Write your code to drop the observations with NaN values here\n"
   ]
  },
  {
   "cell_type": "code",
   "execution_count": null,
   "metadata": {
    "id": "sTmbBg7Zr4fy"
   },
   "outputs": [],
   "source": [
    "# Write your code to get the count of observations left here\n"
   ]
  },
  {
   "cell_type": "markdown",
   "metadata": {
    "id": "zDMnh_u0r4fy"
   },
   "source": [
    "**Question #11:** After dropping, how many observations are left in our `DataFrame`?\n",
    "- *Write your answer here.*"
   ]
  },
  {
   "cell_type": "markdown",
   "metadata": {
    "id": "9gv6JJncr4fz"
   },
   "source": [
    "Check if the observations with `NaN` / `null` values for the `weight_kg` variable have been dropped from the dataset. Make sure that the `NaN` value is not included in the list of all values for the `Embarked` variable."
   ]
  },
  {
   "cell_type": "code",
   "execution_count": null,
   "metadata": {
    "id": "rqHsIV7Xr4fz"
   },
   "outputs": [],
   "source": [
    "# Write your code here\n"
   ]
  },
  {
   "cell_type": "markdown",
   "metadata": {
    "id": "s5QnBWBbr4fz"
   },
   "source": [
    "**Sanity Check!** Your code should return the output:\n",
    "\n",
    "```False```"
   ]
  },
  {
   "cell_type": "markdown",
   "metadata": {
    "id": "u2ZD6Ojkr4fz"
   },
   "source": [
    "We can also check the counts for all of our initial variables with missing values using the code below:"
   ]
  },
  {
   "cell_type": "code",
   "execution_count": null,
   "metadata": {
    "id": "BJ_RouCmr4fz"
   },
   "outputs": [],
   "source": [
    "pokemon_df[nan_variables].isnull().sum()"
   ]
  },
  {
   "cell_type": "markdown",
   "metadata": {
    "id": "b9es4RC9r4fz"
   },
   "source": [
    "### `NaN`s in the `type_2` variable"
   ]
  },
  {
   "cell_type": "markdown",
   "metadata": {
    "id": "ZwOcdEZYr4fz"
   },
   "source": [
    "There is a significant number of observations with `NaN` / `null` value for the `type_2` variable. However, we know that missing values for `type_2` are intended (as opposed to randomly missing), since having a secondary type is optional for a Pokemon. As such, instead of removing these observations from the dataset, we can just set a *sentinel value* to identify these observations. For this, we can just set the string `\"None\"` as our sentinel value. Use the [`loc`](https://pandas.pydata.org/pandas-docs/stable/reference/api/pandas.DataFrame.loc.html) function to select and assign `\"None\"` as value for these variables of these observations"
   ]
  },
  {
   "cell_type": "code",
   "execution_count": null,
   "metadata": {
    "id": "ifVJE1Mvr4f0"
   },
   "outputs": [],
   "source": [
    "pokemon_df.loc[pokemon_df['type_2'].isnull(),'type_2'] = \"None\""
   ]
  },
  {
   "cell_type": "markdown",
   "metadata": {
    "id": "XThBd0S9r4f0"
   },
   "source": [
    "Let's count the number of observations with the sentinel value"
   ]
  },
  {
   "cell_type": "code",
   "execution_count": null,
   "metadata": {
    "id": "JD6r8KoUr4f0"
   },
   "outputs": [],
   "source": [
    "pokemon_df.loc[pokemon_df['type_2'] == \"None\", 'type_2'].shape"
   ]
  },
  {
   "cell_type": "markdown",
   "metadata": {
    "id": "f0HHq2DPr4f0"
   },
   "source": [
    "### `NaN`s in the `hp` variable\n",
    "There is also a significant number of observations with `NaN` / `null` value for the `hp` variable. Instead of removing these observations from the dataset, we can just set a *sentinel value* to identify these observations. Since Pokemon stats cannot be a negative number, let's represent observations with no value for these variables as -1. Use the [`loc`](https://pandas.pydata.org/pandas-docs/stable/reference/api/pandas.DataFrame.loc.html) function to select and assign -1 as value for the `hp` variable of these observations"
   ]
  },
  {
   "cell_type": "code",
   "execution_count": null,
   "metadata": {
    "id": "TSUwRKIBr4f1"
   },
   "outputs": [],
   "source": [
    "pokemon_df1 = pokemon_df.copy()\n",
    "pokemon_df2 = pokemon_df.copy()"
   ]
  },
  {
   "cell_type": "code",
   "execution_count": null,
   "metadata": {
    "id": "WCsKFkvSr4f1"
   },
   "outputs": [],
   "source": [
    "pokemon_df1.loc[pokemon_df1['hp'].isnull(),'hp'] = -1"
   ]
  },
  {
   "cell_type": "markdown",
   "metadata": {
    "id": "0qiJEC5Ir4f1"
   },
   "source": [
    "Let's check if there are any `NaN` / `null` values remaining for the `hp` variable. "
   ]
  },
  {
   "cell_type": "code",
   "execution_count": null,
   "metadata": {
    "id": "nAGnZxZAr4f1"
   },
   "outputs": [],
   "source": [
    "pokemon_df1['hp'].isnull().any()"
   ]
  },
  {
   "cell_type": "markdown",
   "metadata": {
    "id": "0d3lY_vhr4f1"
   },
   "source": [
    "Alternatively, we can also use the [`fillna`](https://pandas.pydata.org/pandas-docs/stable/reference/api/pandas.DataFrame.fillna.html) function:"
   ]
  },
  {
   "cell_type": "code",
   "execution_count": null,
   "metadata": {
    "id": "JwSrqU5Sr4f1"
   },
   "outputs": [],
   "source": [
    "pokemon_df2['hp'] = pokemon_df2['hp'].fillna(-1)"
   ]
  },
  {
   "cell_type": "markdown",
   "metadata": {
    "id": "_UoxT8aQr4f1"
   },
   "source": [
    "Let's check if there are any `NaN` / `null` values remaining for the `hp` variable. "
   ]
  },
  {
   "cell_type": "code",
   "execution_count": null,
   "metadata": {
    "id": "xMgta6KLr4f1"
   },
   "outputs": [],
   "source": [
    "# Write your code here\n"
   ]
  },
  {
   "cell_type": "markdown",
   "metadata": {
    "id": "ubEmW5Y5r4f2"
   },
   "source": [
    "Once again, let's update the main copy of the Pokemon dataframe with the cleaned hp variable."
   ]
  },
  {
   "cell_type": "code",
   "execution_count": null,
   "metadata": {
    "id": "HnyNgEy2r4f2"
   },
   "outputs": [],
   "source": [
    "pokemon_df['hp'] = pokemon_df1['hp']"
   ]
  },
  {
   "cell_type": "markdown",
   "metadata": {
    "id": "D99KbyENr4f2"
   },
   "source": [
    "Let's count number of observations with the sentinel value."
   ]
  },
  {
   "cell_type": "code",
   "execution_count": null,
   "metadata": {
    "id": "ORB4quatr4f2"
   },
   "outputs": [],
   "source": [
    "# Write your code here\n"
   ]
  },
  {
   "cell_type": "markdown",
   "metadata": {
    "id": "Io-eXrkqr4f2"
   },
   "source": [
    "**Question #12:** After cleaning, how many observations have a value equal to the sentinel value `-1` for the `hp` variable?\n",
    "- *Write your answer here.*"
   ]
  },
  {
   "cell_type": "markdown",
   "metadata": {
    "id": "XKRnHYhpr4f2"
   },
   "source": [
    "### `NaN`s in the `defense` variable\n",
    "Write the code below to replace missing values for the `defense` variable with -1. You may use any of the approaches previously stated."
   ]
  },
  {
   "cell_type": "code",
   "execution_count": null,
   "metadata": {
    "id": "zd9S8nykr4f3"
   },
   "outputs": [],
   "source": [
    "# Write your code here\n"
   ]
  },
  {
   "cell_type": "markdown",
   "metadata": {
    "id": "TqQT-GOur4f3"
   },
   "source": [
    "Let's count number of observations with the sentinel value."
   ]
  },
  {
   "cell_type": "code",
   "execution_count": null,
   "metadata": {
    "id": "WTScJeW0r4f3"
   },
   "outputs": [],
   "source": [
    "# Write your code here\n"
   ]
  },
  {
   "cell_type": "markdown",
   "metadata": {
    "id": "VzBbkYDPr4f3"
   },
   "source": [
    "**Question #13:** After cleaning, how many observations have a value equal to the sentinel value of -1 for the `defense` variable?\n",
    "- *Write your answer here.*"
   ]
  },
  {
   "cell_type": "markdown",
   "metadata": {
    "id": "B0N_1JH4r4f3"
   },
   "source": [
    "## Further reading\n",
    "**Motivation for setting a sentinel value (as opposed to leaving it as NaN)**\n",
    "- This [article](https://www.residentmar.io/2016/06/12/null-and-missing-data-python.html) goes through the motivation for setting a sentinel value in much detail as well as the alternative approaches we may use in Python."
   ]
  }
 ],
 "metadata": {
  "colab": {
   "name": "3 - Cleaning Pokemon Data.ipynb",
   "provenance": []
  },
  "kernelspec": {
   "display_name": "Python 3",
   "language": "python",
   "name": "python3"
  },
  "language_info": {
   "codemirror_mode": {
    "name": "ipython",
    "version": 3
   },
   "file_extension": ".py",
   "mimetype": "text/x-python",
   "name": "python",
   "nbconvert_exporter": "python",
   "pygments_lexer": "ipython3",
   "version": "3.9.5"
  }
 },
 "nbformat": 4,
 "nbformat_minor": 4
}
